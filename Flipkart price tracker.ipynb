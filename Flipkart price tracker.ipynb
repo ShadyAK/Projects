{
 "cells": [
  {
   "cell_type": "code",
   "execution_count": 29,
   "metadata": {},
   "outputs": [],
   "source": [
    "import sqlite3\n",
    "import numpy as np\n",
    "from scrapy import Selector\n",
    "from datetime import date\n",
    "import requests\n",
    "import os.path\n",
    "import re"
   ]
  },
  {
   "cell_type": "code",
   "execution_count": 45,
   "metadata": {},
   "outputs": [],
   "source": [
    "def check_database():\n",
    "    if os.path.isfile(\"ProductPrices.db\"):\n",
    "        print(\"DataBase exists\")\n",
    "        connection = sqlite3.connect(\"ProductPrices.db\") \n",
    "        crsr = connection.cursor() \n",
    "        return connection,crsr\n",
    "    else:\n",
    "        print(\"No previous database exists , new created\")\n",
    "        connection = sqlite3.connect(\"ProductPrices.db\") \n",
    "        crsr = connection.cursor()\n",
    "        create=\"\"\"CREATE TABLE Prices(\n",
    "        ID INTEGER PRIMARY KEY AUTOINCREMENT,\n",
    "        Price INTEGER,\n",
    "        Date VARCHAR\n",
    "        )\"\"\"\n",
    "        crsr.execute(create)\n",
    "        connection.commit() \n",
    "        return connection,crsr"
   ]
  },
  {
   "cell_type": "code",
   "execution_count": 60,
   "metadata": {},
   "outputs": [],
   "source": [
    "def get_price(url,connection=connection,crsr=crsr):\n",
    "    today=date.today()\n",
    "    check=\"SELECT * FROM Prices WHERE Date=\"+\"'\"+str(today)+\"'\"+\" LIMIT 1\"\n",
    "    crsr.execute(check)\n",
    "    cond=crsr.fetchall()\n",
    "    if cond:\n",
    "        print(\"price exist\")\n",
    "    else:\n",
    "        html=requests.get(url).content\n",
    "        sel=Selector(text=html)\n",
    "        price=sel.css('div._1vC4OE._3qQ9m1::text').extract()\n",
    "        price=price[0][1:]\n",
    "        price=re.sub(',','',price)\n",
    "        day=\"'\"+str(date.today())+\"'\"\n",
    "        add=\"INSERT INTO Prices(Price , Date) VALUES(\"+price+\",\"+day+\")\"\n",
    "        crsr.execute(add)\n",
    "        minimum_price=\"SELECT MIN(Price) FROM PRICES\"\n",
    "        crsr.execute(minimum_price)\n",
    "        min_price=crsr.fetchall()\n",
    "        if min_price>int(price):\n",
    "            print(\"This is the minimu price o\")\n",
    "        connection.commit() \n",
    "        print(\"price added\")    "
   ]
  },
  {
   "cell_type": "code",
   "execution_count": null,
   "metadata": {},
   "outputs": [],
   "source": [
    "print(\"Enter the Flipkart's product url\")\n",
    "connection,crsr=check_database()\n",
    "url=input()\n",
    "get_price(url,connection,crsr)"
   ]
  },
  {
   "cell_type": "code",
   "execution_count": 67,
   "metadata": {},
   "outputs": [
    {
     "data": {
      "text/plain": [
       "[(1, 28990, '2020-07-11')]"
      ]
     },
     "execution_count": 67,
     "metadata": {},
     "output_type": "execute_result"
    }
   ],
   "source": [
    "check=\"SELECT * FROM Prices\"\n",
    "crsr.execute(check)\n",
    "cond=crsr.fetchall()\n",
    "cond"
   ]
  },
  {
   "cell_type": "code",
   "execution_count": 63,
   "metadata": {},
   "outputs": [],
   "source": [
    "connection.close()"
   ]
  }
 ],
 "metadata": {
  "kernelspec": {
   "display_name": "Python 3",
   "language": "python",
   "name": "python3"
  },
  "language_info": {
   "codemirror_mode": {
    "name": "ipython",
    "version": 3
   },
   "file_extension": ".py",
   "mimetype": "text/x-python",
   "name": "python",
   "nbconvert_exporter": "python",
   "pygments_lexer": "ipython3",
   "version": "3.7.6"
  }
 },
 "nbformat": 4,
 "nbformat_minor": 4
}
